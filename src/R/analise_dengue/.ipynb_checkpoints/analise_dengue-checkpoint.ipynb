{
 "cells": [
  {
   "cell_type": "markdown",
   "metadata": {},
   "source": [
    "## Análise simples de casos óbito de dengue de 2018\n",
    "\n",
    "Dado publicado pelo governo federal - http://i3geo.saude.gov.br/i3geo/ogc.php?service=WFS&version=1.0.0&request=GetFeature&typeName=odm6_dengue&outputFormat=CSV\n"
   ]
  },
  {
   "cell_type": "markdown",
   "metadata": {},
   "source": [
    "#### Carregamento dos pacotes utilizados para a análise"
   ]
  },
  {
   "cell_type": "code",
   "execution_count": 3,
   "metadata": {
    "collapsed": true
   },
   "outputs": [],
   "source": [
    "suppressMessages(library(tidyverse))\n",
    "suppressMessages(library(ggthemes))\n",
    "library(knitr)"
   ]
  },
  {
   "cell_type": "markdown",
   "metadata": {},
   "source": [
    "#### A leitura do dado é feita através do pacote da função read.csv2 que pertence ao pacote utils do R\n"
   ]
  },
  {
   "cell_type": "code",
   "execution_count": 2,
   "metadata": {
    "collapsed": true
   },
   "outputs": [],
   "source": [
    "dengue_set <- read.csv2(file = \"../../../dados/obitos-dengue/obitos_dengue.csv\", sep=\",\", stringsAsFactors = FALSE)"
   ]
  },
  {
   "cell_type": "markdown",
   "metadata": {},
   "source": [
    "Vamos fazer uma análise rápida do nosso conjunto, por exemplo, o nome dos nossos atributos, estatísticas básicas, verificar se há algum NA no nosso dado. Recomendo uma análise mais elaborada para dados não tratados."
   ]
  },
  {
   "cell_type": "markdown",
   "metadata": {},
   "source": [
    "##### Primeiro, vamos observar nossos dados\n"
   ]
  },
  {
   "cell_type": "code",
   "execution_count": 4,
   "metadata": {
    "collapsed": false
   },
   "outputs": [
    {
     "data": {
      "text/plain": [
       "\n",
       "\n",
       "| indicx|no_cidade             |\n",
       "|------:|:---------------------|\n",
       "|      0|Alta Floresta D'Oeste |\n",
       "|      0|Ariquemes             |\n",
       "|      0|Cabixi                |\n",
       "|      4|Cacoal                |"
      ]
     },
     "metadata": {},
     "output_type": "display_data"
    }
   ],
   "source": [
    "knitr::kable(head(dengue_set, 4))\n"
   ]
  },
  {
   "cell_type": "markdown",
   "metadata": {},
   "source": [
    "Tirando uma conclusão rápida, nosso atributo no_cidade é qualitativo, por se tratar dos nomes das cidades. Por outro lado, o indicx é um atributo quantitativo discreto, pois representa a quantidade de casos de obito que ocorreram na cidade.\n",
    "\n",
    "A partir dessa conclusão rápida, quero ver se há algum atributo com o valor NA"
   ]
  },
  {
   "cell_type": "code",
   "execution_count": 5,
   "metadata": {
    "collapsed": false
   },
   "outputs": [
    {
     "data": {
      "text/html": [
       "<table>\n",
       "<thead><tr><th scope=col>indicx</th><th scope=col>no_cidade</th></tr></thead>\n",
       "<tbody>\n",
       "\t<tr><td>FALSE</td><td>FALSE</td></tr>\n",
       "\t<tr><td>FALSE</td><td>FALSE</td></tr>\n",
       "\t<tr><td>FALSE</td><td>FALSE</td></tr>\n",
       "\t<tr><td>FALSE</td><td>FALSE</td></tr>\n",
       "\t<tr><td>FALSE</td><td>FALSE</td></tr>\n",
       "</tbody>\n",
       "</table>\n"
      ],
      "text/latex": [
       "\\begin{tabular}{ll}\n",
       " indicx & no\\_cidade\\\\\n",
       "\\hline\n",
       "\t FALSE & FALSE\\\\\n",
       "\t FALSE & FALSE\\\\\n",
       "\t FALSE & FALSE\\\\\n",
       "\t FALSE & FALSE\\\\\n",
       "\t FALSE & FALSE\\\\\n",
       "\\end{tabular}\n"
      ],
      "text/markdown": [
       "\n",
       "indicx | no_cidade | \n",
       "|---|---|---|---|---|\n",
       "| FALSE | FALSE | \n",
       "| FALSE | FALSE | \n",
       "| FALSE | FALSE | \n",
       "| FALSE | FALSE | \n",
       "| FALSE | FALSE | \n",
       "\n",
       "\n"
      ],
      "text/plain": [
       "     indicx no_cidade\n",
       "[1,] FALSE  FALSE    \n",
       "[2,] FALSE  FALSE    \n",
       "[3,] FALSE  FALSE    \n",
       "[4,] FALSE  FALSE    \n",
       "[5,] FALSE  FALSE    "
      ]
     },
     "metadata": {},
     "output_type": "display_data"
    }
   ],
   "source": [
    "head(is.na(dengue_set), 5)\n"
   ]
  },
  {
   "cell_type": "markdown",
   "metadata": {},
   "source": [
    "Acho assim meio cansativo de analisar linha por linha se é TRUE ou FALSE, podemos otimizar apenas somando os valores TRUE"
   ]
  },
  {
   "cell_type": "code",
   "execution_count": 6,
   "metadata": {
    "collapsed": false
   },
   "outputs": [
    {
     "data": {
      "text/html": [
       "0"
      ],
      "text/latex": [
       "0"
      ],
      "text/markdown": [
       "0"
      ],
      "text/plain": [
       "[1] 0"
      ]
     },
     "metadata": {},
     "output_type": "display_data"
    }
   ],
   "source": [
    "sum(is.na(dengue_set))\n"
   ]
  },
  {
   "cell_type": "markdown",
   "metadata": {},
   "source": [
    "Seguindo, esse dado me parece perfeito (isso não acontece na vida real). Vamos seguir e visualizar algumas estatísticas básicas"
   ]
  },
  {
   "cell_type": "code",
   "execution_count": 14,
   "metadata": {
    "collapsed": false
   },
   "outputs": [
    {
     "data": {
      "text/plain": [
       "     indicx         no_cidade        \n",
       " Min.   : 0.0000   Length:5565       \n",
       " 1st Qu.: 0.0000   Class :character  \n",
       " Median : 0.0000   Mode  :character  \n",
       " Mean   : 0.1179                     \n",
       " 3rd Qu.: 0.0000                     \n",
       " Max.   :28.0000                     "
      ]
     },
     "metadata": {},
     "output_type": "display_data"
    }
   ],
   "source": [
    "summary(dengue_set)"
   ]
  },
  {
   "cell_type": "markdown",
   "metadata": {},
   "source": [
    "Vejo que o valor mínimo é 0, a média é 0.117 e o valor máximo é 28. Vou remover as cidades que contém 0 casos e calcular a média novamente, talvez assim, conseguimos ter uma análise melhor\n",
    "\n",
    "Vamos lá, primeiro vamos observar o tamanho do nosso conjunto completo"
   ]
  },
  {
   "cell_type": "code",
   "execution_count": 15,
   "metadata": {
    "collapsed": false
   },
   "outputs": [
    {
     "data": {
      "text/html": [
       "<ol class=list-inline>\n",
       "\t<li>5565</li>\n",
       "\t<li>2</li>\n",
       "</ol>\n"
      ],
      "text/latex": [
       "\\begin{enumerate*}\n",
       "\\item 5565\n",
       "\\item 2\n",
       "\\end{enumerate*}\n"
      ],
      "text/markdown": [
       "1. 5565\n",
       "2. 2\n",
       "\n",
       "\n"
      ],
      "text/plain": [
       "[1] 5565    2"
      ]
     },
     "metadata": {},
     "output_type": "display_data"
    }
   ],
   "source": [
    "dim(dengue_set)"
   ]
  },
  {
   "cell_type": "markdown",
   "metadata": {},
   "source": [
    "Temos 5565 linhas, quero ver, quantos registro possuem o indice 0. Então, vamos selecionar todos os atributos e filtrar pelo indicx que tem o valor 0."
   ]
  },
  {
   "cell_type": "code",
   "execution_count": 7,
   "metadata": {
    "collapsed": false
   },
   "outputs": [
    {
     "data": {
      "text/html": [
       "<table>\n",
       "<thead><tr><th scope=col>n</th></tr></thead>\n",
       "<tbody>\n",
       "\t<tr><td>5279</td></tr>\n",
       "</tbody>\n",
       "</table>\n"
      ],
      "text/latex": [
       "\\begin{tabular}{r|l}\n",
       " n\\\\\n",
       "\\hline\n",
       "\t 5279\\\\\n",
       "\\end{tabular}\n"
      ],
      "text/markdown": [
       "\n",
       "n | \n",
       "|---|\n",
       "| 5279 | \n",
       "\n",
       "\n"
      ],
      "text/plain": [
       "  n   \n",
       "1 5279"
      ]
     },
     "metadata": {},
     "output_type": "display_data"
    }
   ],
   "source": [
    "dengue_set %>%\n",
    "  select(everything()) %>%\n",
    "  filter(indicx == 0) %>%\n",
    "  count()"
   ]
  },
  {
   "cell_type": "markdown",
   "metadata": {},
   "source": [
    "Temos 5279 registros com os valores 0. Quero analisar apenas as cidade que ouveram casos. Então, vou selecionar todos os atributos novamente e filtrar pelas cidade onde houve pelo menos um caso."
   ]
  },
  {
   "cell_type": "code",
   "execution_count": 9,
   "metadata": {
    "collapsed": true
   },
   "outputs": [],
   "source": [
    "conjunto_novo <- dengue_set %>%\n",
    "  select(everything()) %>%\n",
    "  filter(indicx >= 1)"
   ]
  },
  {
   "cell_type": "markdown",
   "metadata": {},
   "source": [
    "Pronto, com o nosso conjunto novo, vamos fazer a mesma análise\n"
   ]
  },
  {
   "cell_type": "code",
   "execution_count": 16,
   "metadata": {
    "collapsed": false
   },
   "outputs": [
    {
     "data": {
      "text/plain": [
       "     indicx        no_cidade        \n",
       " Min.   : 1.000   Length:286        \n",
       " 1st Qu.: 1.000   Class :character  \n",
       " Median : 1.000   Mode  :character  \n",
       " Mean   : 2.294                     \n",
       " 3rd Qu.: 2.000                     \n",
       " Max.   :28.000                     "
      ]
     },
     "metadata": {},
     "output_type": "display_data"
    }
   ],
   "source": [
    "summary(conjunto_novo)\n"
   ]
  },
  {
   "cell_type": "markdown",
   "metadata": {},
   "source": [
    "Agora temos os valores mais acurados, sabemos que, a média de cidades que houveram casos de dengue foram de 2 pessoa em 286 cidades. Vamos selecionar apenas as cidades que estão acima da média de ocorrência."
   ]
  },
  {
   "cell_type": "code",
   "execution_count": 10,
   "metadata": {
    "collapsed": false
   },
   "outputs": [],
   "source": [
    "cidades_casos <- conjunto_novo %>%\n",
    "  select(everything()) %>%\n",
    "  filter(indicx > mean(indicx))"
   ]
  },
  {
   "cell_type": "markdown",
   "metadata": {},
   "source": [
    "Vamos observar as estatísticas novamente\n"
   ]
  },
  {
   "cell_type": "code",
   "execution_count": 18,
   "metadata": {
    "collapsed": false
   },
   "outputs": [
    {
     "data": {
      "text/plain": [
       "     indicx        no_cidade        \n",
       " Min.   : 3.000   Length:54         \n",
       " 1st Qu.: 3.000   Class :character  \n",
       " Median : 5.000   Mode  :character  \n",
       " Mean   : 7.037                     \n",
       " 3rd Qu.: 8.000                     \n",
       " Max.   :28.000                     "
      ]
     },
     "metadata": {},
     "output_type": "display_data"
    }
   ],
   "source": [
    "summary(cidades_casos)\n"
   ]
  },
  {
   "cell_type": "markdown",
   "metadata": {},
   "source": [
    "Agora, com 54 cidades, quero ver, quais capitais estão acima da média das cidades em que ocorreram pelo menos 1 vítima da dengue. Aqui poderia pegar um conjunto de dados com as capitais do Brasil e fazer um merge, mas, vou fazer na mão por motivos didáticos a.k.a preguiça"
   ]
  },
  {
   "cell_type": "code",
   "execution_count": 11,
   "metadata": {
    "collapsed": true
   },
   "outputs": [],
   "source": [
    "capitais_brasil <- cidades_casos %>%\n",
    "  select(everything()) %>%\n",
    "  filter(no_cidade %in% c(\"São Paulo\",\n",
    "                        \"Rio de Janeiro\",\n",
    "                        \"Belo Horizonte\",\n",
    "                        \"Porto Alegre\",\n",
    "                        \"Curitiba\",\n",
    "                        \"Florianópolis\",\n",
    "                        \"Goiânia\",\n",
    "                        \"Salvador\",\n",
    "                        \"Brasília\",\n",
    "                        \"Fortaleza\",\n",
    "                        \"Recife\",\n",
    "                        \"Manaus\",\n",
    "                        \"Vitória\",\n",
    "                        \"Belém\",\n",
    "                        \"Natal\",\n",
    "                        \"Cuiabá\",\n",
    "                        \"São Luís\",\n",
    "                        \"João Pessoa\",\n",
    "                        \"Campo Grande\",\n",
    "                        \"Maceió\",\n",
    "                        \"Aracaju\",\n",
    "                        \"Teresina\",\n",
    "                        \"Palmas\",\n",
    "                        \"Boa Vista\",\n",
    "                        \"Porto Velho\",\n",
    "                        \"Rio Branco\"))"
   ]
  },
  {
   "cell_type": "markdown",
   "metadata": {},
   "source": [
    "Bom, agora que temos as capitais, podemos visualizar, algumas ideias, podemos separar por cidades litorâneas e ver se há alguma relação de índices maiores por conter mar, ou cidade que têm rios. Então, vamos utilizar os nomes das cidades no x e a quantidade de casos no y."
   ]
  },
  {
   "cell_type": "code",
   "execution_count": 12,
   "metadata": {
    "collapsed": false
   },
   "outputs": [
    {
     "data": {},
     "metadata": {},
     "output_type": "display_data"
    },
    {
     "data": {
      "image/png": "[encoded data removed]",
      "text/plain": [
       "plot without title"
      ]
     },
     "metadata": {},
     "output_type": "display_data"
    }
   ],
   "source": [
    "ggplot(capitais_brasil, aes(x=no_cidade, y=indicx)) +\n",
    "  geom_col(fill = \"#c0392b\") +\n",
    "  geom_text(aes(label = indicx), vjust = -0.5) +\n",
    "  labs(title = 'Capitais com casos de dengue',\n",
    "       y = 'Quantidade de casos',\n",
    "       x = 'Capitais do brasil') +\n",
    "  theme_hc() +\n",
    "  theme(axis.text.x = element_text(angle = 45,\n",
    "                                   hjust = 1))"
   ]
  },
  {
   "cell_type": "markdown",
   "metadata": {},
   "source": [
    "Olha só, agora sabemos que Campo Grande e Goiânia tem os maiores indices de dengue. Sabemos que ambas capitais pertencem a região do centro-oeste. Reportagem do [G1](https://g1.globo.com/bemestar/noticia/brasil-tem-62-mortes-por-dengue-em-2018.ghtml) sobre os casos de óbito de dengue no centro-oeste."
   ]
  },
  {
   "cell_type": "code",
   "execution_count": null,
   "metadata": {
    "collapsed": true
   },
   "outputs": [],
   "source": []
  }
 ],
 "metadata": {
  "kernelspec": {
   "display_name": "R",
   "language": "R",
   "name": "ir"
  },
  "language_info": {
   "codemirror_mode": "r",
   "file_extension": ".r",
   "mimetype": "text/x-r-source",
   "name": "R",
   "pygments_lexer": "r",
   "version": "3.3.3"
  }
 },
 "nbformat": 4,
 "nbformat_minor": 2
}
