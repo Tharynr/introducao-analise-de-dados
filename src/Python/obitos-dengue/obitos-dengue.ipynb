{
 "cells": [
  {
   "cell_type": "markdown",
   "metadata": {},
   "source": [
    "## Análise rápida dos dados de óbito por Dengue em todo o Brasil\n",
    "\n",
    "Conjunto de dados disponibilizados em: http://dados.gov.br/dataset/odm6_dengue"
   ]
  },
  {
   "cell_type": "code",
   "execution_count": 3,
   "metadata": {},
   "outputs": [],
   "source": [
    "import pandas as pd"
   ]
  },
  {
   "cell_type": "markdown",
   "metadata": {},
   "source": [
    "Carregando os dados"
   ]
  },
  {
   "cell_type": "code",
   "execution_count": 4,
   "metadata": {},
   "outputs": [],
   "source": [
    "df_dengue = pd.read_csv('http://i3geo.saude.gov.br/i3geo/ogc.php?service=WFS&version=1.0.0&request=GetFeature&typeName=odm6_dengue&outputFormat=CSV')"
   ]
  },
  {
   "cell_type": "markdown",
   "metadata": {},
   "source": [
    "Com os dados já carregados podemos começar a análise, inicialmente vamos explorar o dado, para verificar quais informações podemos obter neste primeiro momento"
   ]
  },
  {
   "cell_type": "code",
   "execution_count": 5,
   "metadata": {},
   "outputs": [
    {
     "data": {
      "text/html": [
       "<div>\n",
       "<style scoped>\n",
       "    .dataframe tbody tr th:only-of-type {\n",
       "        vertical-align: middle;\n",
       "    }\n",
       "\n",
       "    .dataframe tbody tr th {\n",
       "        vertical-align: top;\n",
       "    }\n",
       "\n",
       "    .dataframe thead th {\n",
       "        text-align: right;\n",
       "    }\n",
       "</style>\n",
       "<table border=\"1\" class=\"dataframe\">\n",
       "  <thead>\n",
       "    <tr style=\"text-align: right;\">\n",
       "      <th></th>\n",
       "      <th>indicx</th>\n",
       "    </tr>\n",
       "  </thead>\n",
       "  <tbody>\n",
       "    <tr>\n",
       "      <th>count</th>\n",
       "      <td>5565.000000</td>\n",
       "    </tr>\n",
       "    <tr>\n",
       "      <th>mean</th>\n",
       "      <td>0.117880</td>\n",
       "    </tr>\n",
       "    <tr>\n",
       "      <th>std</th>\n",
       "      <td>0.915624</td>\n",
       "    </tr>\n",
       "    <tr>\n",
       "      <th>min</th>\n",
       "      <td>0.000000</td>\n",
       "    </tr>\n",
       "    <tr>\n",
       "      <th>25%</th>\n",
       "      <td>0.000000</td>\n",
       "    </tr>\n",
       "    <tr>\n",
       "      <th>50%</th>\n",
       "      <td>0.000000</td>\n",
       "    </tr>\n",
       "    <tr>\n",
       "      <th>75%</th>\n",
       "      <td>0.000000</td>\n",
       "    </tr>\n",
       "    <tr>\n",
       "      <th>max</th>\n",
       "      <td>28.000000</td>\n",
       "    </tr>\n",
       "  </tbody>\n",
       "</table>\n",
       "</div>"
      ],
      "text/plain": [
       "            indicx\n",
       "count  5565.000000\n",
       "mean      0.117880\n",
       "std       0.915624\n",
       "min       0.000000\n",
       "25%       0.000000\n",
       "50%       0.000000\n",
       "75%       0.000000\n",
       "max      28.000000"
      ]
     },
     "execution_count": 5,
     "metadata": {},
     "output_type": "execute_result"
    }
   ],
   "source": [
    "# Visão geral (estatística) dos dados\n",
    "df_dengue.describe()"
   ]
  },
  {
   "cell_type": "markdown",
   "metadata": {},
   "source": [
    "Veja que, ao utilizar o método `describe` conseguimos perceber que, além da média baixa, a cidade com maior indice maior de casos, tem 28, enquanto o mais baixo possui 0.\n",
    "\n",
    "Isto já é um primeiro passo na análise, vamos evoluir ela, descobrindo o nome da cidade com o maior índice, que anteriormente haviamos constatado como 28. "
   ]
  },
  {
   "cell_type": "markdown",
   "metadata": {},
   "source": [
    "## Cidade com maior índice de mortes causados por dengue\n",
    "\n",
    "Como citado acima, vamos verificar qual a cidade com o maior índice de mortes causados por dengue."
   ]
  },
  {
   "cell_type": "code",
   "execution_count": 6,
   "metadata": {},
   "outputs": [
    {
     "data": {
      "text/html": [
       "<div>\n",
       "<style scoped>\n",
       "    .dataframe tbody tr th:only-of-type {\n",
       "        vertical-align: middle;\n",
       "    }\n",
       "\n",
       "    .dataframe tbody tr th {\n",
       "        vertical-align: top;\n",
       "    }\n",
       "\n",
       "    .dataframe thead th {\n",
       "        text-align: right;\n",
       "    }\n",
       "</style>\n",
       "<table border=\"1\" class=\"dataframe\">\n",
       "  <thead>\n",
       "    <tr style=\"text-align: right;\">\n",
       "      <th></th>\n",
       "      <th>indicx</th>\n",
       "      <th>no_cidade</th>\n",
       "    </tr>\n",
       "  </thead>\n",
       "  <tbody>\n",
       "    <tr>\n",
       "      <th>3477</th>\n",
       "      <td>28</td>\n",
       "      <td>Guarujá</td>\n",
       "    </tr>\n",
       "  </tbody>\n",
       "</table>\n",
       "</div>"
      ],
      "text/plain": [
       "      indicx no_cidade\n",
       "3477      28   Guarujá"
      ]
     },
     "execution_count": 6,
     "metadata": {},
     "output_type": "execute_result"
    }
   ],
   "source": [
    "df_dengue.query('indicx == indicx.max()')"
   ]
  },
  {
   "cell_type": "markdown",
   "metadata": {},
   "source": [
    "Perceba que conseguimos chegar a cidade de `Guarujá`, este já pode ser considerado uma informação obtida desta análise. Lembre-se, nem sempre a análise trará resultados grandiosos, em vários casos apenas uma simples informação já é de grande ajuda. Porém, neste caso, vamos continuar, e tentar descobrir mais coisas deste conjunto de dados.\n",
    "\n",
    "Vamos tentar agora verificar as 10 cidades com maior incidência de óbitos por dengue."
   ]
  },
  {
   "cell_type": "code",
   "execution_count": 7,
   "metadata": {},
   "outputs": [
    {
     "data": {
      "text/html": [
       "<div>\n",
       "<style scoped>\n",
       "    .dataframe tbody tr th:only-of-type {\n",
       "        vertical-align: middle;\n",
       "    }\n",
       "\n",
       "    .dataframe tbody tr th {\n",
       "        vertical-align: top;\n",
       "    }\n",
       "\n",
       "    .dataframe thead th {\n",
       "        text-align: right;\n",
       "    }\n",
       "</style>\n",
       "<table border=\"1\" class=\"dataframe\">\n",
       "  <thead>\n",
       "    <tr style=\"text-align: right;\">\n",
       "      <th></th>\n",
       "      <th>indicx</th>\n",
       "      <th>no_cidade</th>\n",
       "    </tr>\n",
       "  </thead>\n",
       "  <tbody>\n",
       "    <tr>\n",
       "      <th>3477</th>\n",
       "      <td>28</td>\n",
       "      <td>Guarujá</td>\n",
       "    </tr>\n",
       "    <tr>\n",
       "      <th>3808</th>\n",
       "      <td>24</td>\n",
       "      <td>Santos</td>\n",
       "    </tr>\n",
       "    <tr>\n",
       "      <th>5412</th>\n",
       "      <td>21</td>\n",
       "      <td>Goiânia</td>\n",
       "    </tr>\n",
       "    <tr>\n",
       "      <th>5118</th>\n",
       "      <td>21</td>\n",
       "      <td>Campo Grande</td>\n",
       "    </tr>\n",
       "    <tr>\n",
       "      <th>2308</th>\n",
       "      <td>16</td>\n",
       "      <td>Belo Horizonte</td>\n",
       "    </tr>\n",
       "    <tr>\n",
       "      <th>3835</th>\n",
       "      <td>15</td>\n",
       "      <td>São Vicente</td>\n",
       "    </tr>\n",
       "    <tr>\n",
       "      <th>2662</th>\n",
       "      <td>13</td>\n",
       "      <td>Juiz de Fora</td>\n",
       "    </tr>\n",
       "    <tr>\n",
       "      <th>3822</th>\n",
       "      <td>11</td>\n",
       "      <td>São José do Rio Preto</td>\n",
       "    </tr>\n",
       "    <tr>\n",
       "      <th>169</th>\n",
       "      <td>11</td>\n",
       "      <td>Belém</td>\n",
       "    </tr>\n",
       "    <tr>\n",
       "      <th>3725</th>\n",
       "      <td>10</td>\n",
       "      <td>Praia Grande</td>\n",
       "    </tr>\n",
       "  </tbody>\n",
       "</table>\n",
       "</div>"
      ],
      "text/plain": [
       "      indicx              no_cidade\n",
       "3477      28                Guarujá\n",
       "3808      24                 Santos\n",
       "5412      21                Goiânia\n",
       "5118      21           Campo Grande\n",
       "2308      16         Belo Horizonte\n",
       "3835      15            São Vicente\n",
       "2662      13           Juiz de Fora\n",
       "3822      11  São José do Rio Preto\n",
       "169       11                  Belém\n",
       "3725      10           Praia Grande"
      ]
     },
     "execution_count": 7,
     "metadata": {},
     "output_type": "execute_result"
    }
   ],
   "source": [
    "df_dengue.sort_values('indicx', ascending=False).head(10)"
   ]
  },
  {
   "cell_type": "markdown",
   "metadata": {},
   "source": [
    "Opa! Vemos que recuperamos as dez cidades, da que possui a maior quantidade para aquela que possui a menor quantidade, muito bacana =D\n",
    "\n",
    "Agora, olhando estes números, foi possível perceber que pode-se haver grupos de cidades com a mesma quantidade de óbitos, vamos então, agrupar os dados pelos valores dos indices para verificar quantos possíveis grupos são."
   ]
  },
  {
   "cell_type": "code",
   "execution_count": 8,
   "metadata": {},
   "outputs": [],
   "source": [
    "grupos = df_dengue.groupby('indicx')"
   ]
  },
  {
   "cell_type": "code",
   "execution_count": 9,
   "metadata": {},
   "outputs": [
    {
     "data": {
      "text/plain": [
       "0           AxesSubplot(0.1,0.77069;0.173913x0.12931)\n",
       "1      AxesSubplot(0.308696,0.77069;0.173913x0.12931)\n",
       "2      AxesSubplot(0.517391,0.77069;0.173913x0.12931)\n",
       "3      AxesSubplot(0.726087,0.77069;0.173913x0.12931)\n",
       "4          AxesSubplot(0.1,0.615517;0.173913x0.12931)\n",
       "5     AxesSubplot(0.308696,0.615517;0.173913x0.12931)\n",
       "6     AxesSubplot(0.517391,0.615517;0.173913x0.12931)\n",
       "7     AxesSubplot(0.726087,0.615517;0.173913x0.12931)\n",
       "8          AxesSubplot(0.1,0.460345;0.173913x0.12931)\n",
       "9     AxesSubplot(0.308696,0.460345;0.173913x0.12931)\n",
       "10    AxesSubplot(0.517391,0.460345;0.173913x0.12931)\n",
       "11    AxesSubplot(0.726087,0.460345;0.173913x0.12931)\n",
       "13         AxesSubplot(0.1,0.305172;0.173913x0.12931)\n",
       "15    AxesSubplot(0.308696,0.305172;0.173913x0.12931)\n",
       "16    AxesSubplot(0.517391,0.305172;0.173913x0.12931)\n",
       "21    AxesSubplot(0.726087,0.305172;0.173913x0.12931)\n",
       "24             AxesSubplot(0.1,0.15;0.173913x0.12931)\n",
       "28        AxesSubplot(0.308696,0.15;0.173913x0.12931)\n",
       "dtype: object"
      ]
     },
     "execution_count": 9,
     "metadata": {},
     "output_type": "execute_result"
    },
    {
     "data": {
      "image/png": "[encoded data removed]",
      "text/plain": [
       "<Figure size 1440x1440 with 20 Axes>"
      ]
     },
     "metadata": {},
     "output_type": "display_data"
    }
   ],
   "source": [
    "grupos.boxplot(figsize=(20, 20))"
   ]
  },
  {
   "cell_type": "markdown",
   "metadata": {},
   "source": [
    "Veja que bacana, as cidades foram agrupadas de acordo com a quantidade de indices levantados. Isto nos faz ter uma ideia geral de como os dados estão distribuidos, e também, foi uma forma de comprovar que, a cidade com mais problemas relacionados a dengue, tem 28 casos (Veja o último plot)."
   ]
  }
 ],
 "metadata": {
  "kernelspec": {
   "display_name": "Python 3",
   "language": "python",
   "name": "python3"
  },
  "language_info": {
   "codemirror_mode": {
    "name": "ipython",
    "version": 3
   },
   "file_extension": ".py",
   "mimetype": "text/x-python",
   "name": "python",
   "nbconvert_exporter": "python",
   "pygments_lexer": "ipython3",
   "version": "3.6.4"
  }
 },
 "nbformat": 4,
 "nbformat_minor": 2
}
