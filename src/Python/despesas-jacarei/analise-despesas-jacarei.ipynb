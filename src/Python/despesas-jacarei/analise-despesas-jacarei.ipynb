{
 "cells": [
  {
   "cell_type": "markdown",
   "metadata": {},
   "source": [
    "### Análise das despesas de Jacareí - 2018\n",
    "\n",
    "Análise de uma pequena serie temporal (Meses) com os gasos da Prefeitura Municipal de Jacareí.\n",
    "\n",
    "\n",
    "Para que seja mais simples a análise destes dados, vejamos um descritivo simples de cada uma das variáveis presentes\n",
    "\n",
    "- *_Emp (Tudo com final _Emp)\n",
    "    - Ato emanado de autoridade competente, que cria para o estado a obrigação de pagamento pendente ou não de implemento de condição; a garantia de que existe o crédito necessário para a liquidação de um compromisso assumido; é o primeiro estágio da despesa pública. Fonte: Tesouro Nacional;\n",
    "\n",
    "- *_Liq (Tudo com final _Liq)\n",
    "    - É o segundo estágio da despesa orçamentária. A liquidação da despesa é, normalmente, processada pelas Unidades Executoras ao receberem o objeto do empenho (o material, serviço, bem ou obra). Conforme previsto no art. 63 da Lei nº 4.320/1964, a liquidação consiste na verificação do direito adquirido pelo credor tendo por base os títulos e documentos comprobatórios do respectivo crédito e tem como objetivos: apurar a origem e o objeto do que se deve pagar; a importância exata a pagar; e a quem se deve pagar a importância, para extinguir a obrigação. Fonte: Controladoria-Geral da União (CGU);\n",
    "\n",
    "- *_Pag (Tudo com final _Pag)\n",
    "    - Último estágio da despesa pública. Caracteriza-se pela emissão do cheque ou ordem bancária em favor do credor. Fonte: Tesouro Nacional."
   ]
  },
  {
   "cell_type": "code",
   "execution_count": 47,
   "metadata": {},
   "outputs": [],
   "source": [
    "import pandas as pd\n",
    "import matplotlib.pyplot as plt\n",
    "from utils import change_money"
   ]
  },
  {
   "cell_type": "markdown",
   "metadata": {},
   "source": [
    "#### Carregando e visualizando os dados"
   ]
  },
  {
   "cell_type": "code",
   "execution_count": 48,
   "metadata": {},
   "outputs": [],
   "source": [
    "gastos = pd.read_csv('../../../dados/despesas/2018/detalhamento_despesas-jac.csv')"
   ]
  },
  {
   "cell_type": "code",
   "execution_count": null,
   "metadata": {},
   "outputs": [
    {
     "data": {
      "text/html": [
       "<div>\n",
       "<style scoped>\n",
       "    .dataframe tbody tr th:only-of-type {\n",
       "        vertical-align: middle;\n",
       "    }\n",
       "\n",
       "    .dataframe tbody tr th {\n",
       "        vertical-align: top;\n",
       "    }\n",
       "\n",
       "    .dataframe thead th {\n",
       "        text-align: right;\n",
       "    }\n",
       "</style>\n",
       "<table border=\"1\" class=\"dataframe\">\n",
       "  <thead>\n",
       "    <tr style=\"text-align: right;\">\n",
       "      <th></th>\n",
       "      <th>Natureza</th>\n",
       "      <th>Elemento</th>\n",
       "      <th>Vl_Previsto</th>\n",
       "      <th>Vl_Jan_Emp</th>\n",
       "      <th>Vl_Fev_Emp</th>\n",
       "      <th>Vl_Mar_Emp</th>\n",
       "      <th>Vl_Abr_Emp</th>\n",
       "      <th>Vl_Mai_Emp</th>\n",
       "      <th>Vl_Jun_Emp</th>\n",
       "      <th>Vl_Jul_Emp</th>\n",
       "      <th>...</th>\n",
       "      <th>Vl_Mar_Pag</th>\n",
       "      <th>Vl_Abr_Pag</th>\n",
       "      <th>Vl_Mai_Pag</th>\n",
       "      <th>Vl_Jun_Pag</th>\n",
       "      <th>Vl_Jul_Pag</th>\n",
       "      <th>Vl_Ago_Pag</th>\n",
       "      <th>Vl_Set_Pag</th>\n",
       "      <th>Vl_Out_Pag</th>\n",
       "      <th>Vl_Nov_Pag</th>\n",
       "      <th>Vl_Dez_Pag</th>\n",
       "    </tr>\n",
       "  </thead>\n",
       "  <tbody>\n",
       "    <tr>\n",
       "      <th>0</th>\n",
       "      <td>3.1 - Pessoal e Encargos Sociais</td>\n",
       "      <td>01 - Aposentadorias, Reserva Remunerada e Refo...</td>\n",
       "      <td>2.200.000,00</td>\n",
       "      <td>152.988,89</td>\n",
       "      <td>27.864,99</td>\n",
       "      <td>240.208,32</td>\n",
       "      <td>146.007,85</td>\n",
       "      <td>117.136,22</td>\n",
       "      <td>126.804,82</td>\n",
       "      <td>114.613,43</td>\n",
       "      <td>...</td>\n",
       "      <td>240.208,32</td>\n",
       "      <td>146.007,85</td>\n",
       "      <td>117.136,22</td>\n",
       "      <td>126.804,82</td>\n",
       "      <td>114.613,43</td>\n",
       "      <td>121.635,95</td>\n",
       "      <td>22.326,44</td>\n",
       "      <td>0,00</td>\n",
       "      <td>0,00</td>\n",
       "      <td>0,00</td>\n",
       "    </tr>\n",
       "    <tr>\n",
       "      <th>1</th>\n",
       "      <td>3.1 - Pessoal e Encargos Sociais</td>\n",
       "      <td>03 - Pensões do RPPS e do Militar</td>\n",
       "      <td>1.138.000,00</td>\n",
       "      <td>60.698,03</td>\n",
       "      <td>9.032,48</td>\n",
       "      <td>149.760,50</td>\n",
       "      <td>66.762,26</td>\n",
       "      <td>104.097,49</td>\n",
       "      <td>111.687,63</td>\n",
       "      <td>108.339,36</td>\n",
       "      <td>...</td>\n",
       "      <td>149.760,50</td>\n",
       "      <td>66.762,26</td>\n",
       "      <td>104.097,49</td>\n",
       "      <td>111.687,63</td>\n",
       "      <td>108.339,36</td>\n",
       "      <td>125.364,80</td>\n",
       "      <td>16.301,68</td>\n",
       "      <td>0,00</td>\n",
       "      <td>0,00</td>\n",
       "      <td>0,00</td>\n",
       "    </tr>\n",
       "    <tr>\n",
       "      <th>2</th>\n",
       "      <td>3.1 - Pessoal e Encargos Sociais</td>\n",
       "      <td>04 - Contratação por Tempo Determinado</td>\n",
       "      <td>22.111.071,00</td>\n",
       "      <td>1.091.846,78</td>\n",
       "      <td>22.664,44</td>\n",
       "      <td>2.388.178,45</td>\n",
       "      <td>1.478.431,78</td>\n",
       "      <td>1.589.424,50</td>\n",
       "      <td>1.723.456,64</td>\n",
       "      <td>1.602.290,32</td>\n",
       "      <td>...</td>\n",
       "      <td>2.394.739,75</td>\n",
       "      <td>1.478.314,48</td>\n",
       "      <td>1.589.424,50</td>\n",
       "      <td>1.723.456,64</td>\n",
       "      <td>1.602.290,32</td>\n",
       "      <td>1.557.052,43</td>\n",
       "      <td>597.737,52</td>\n",
       "      <td>0,00</td>\n",
       "      <td>0,00</td>\n",
       "      <td>0,00</td>\n",
       "    </tr>\n",
       "  </tbody>\n",
       "</table>\n",
       "<p>3 rows × 39 columns</p>\n",
       "</div>"
      ],
      "text/plain": [
       "                           Natureza  \\\n",
       "0  3.1 - Pessoal e Encargos Sociais   \n",
       "1  3.1 - Pessoal e Encargos Sociais   \n",
       "2  3.1 - Pessoal e Encargos Sociais   \n",
       "\n",
       "                                            Elemento     Vl_Previsto  \\\n",
       "0  01 - Aposentadorias, Reserva Remunerada e Refo...    2.200.000,00   \n",
       "1                  03 - Pensões do RPPS e do Militar    1.138.000,00   \n",
       "2             04 - Contratação por Tempo Determinado   22.111.071,00   \n",
       "\n",
       "      Vl_Jan_Emp  Vl_Fev_Emp     Vl_Mar_Emp     Vl_Abr_Emp     Vl_Mai_Emp  \\\n",
       "0     152.988,89   27.864,99     240.208,32     146.007,85     117.136,22   \n",
       "1      60.698,03    9.032,48     149.760,50      66.762,26     104.097,49   \n",
       "2   1.091.846,78   22.664,44   2.388.178,45   1.478.431,78   1.589.424,50   \n",
       "\n",
       "      Vl_Jun_Emp     Vl_Jul_Emp    ...         Vl_Mar_Pag     Vl_Abr_Pag  \\\n",
       "0     126.804,82     114.613,43    ...         240.208,32     146.007,85   \n",
       "1     111.687,63     108.339,36    ...         149.760,50      66.762,26   \n",
       "2   1.723.456,64   1.602.290,32    ...       2.394.739,75   1.478.314,48   \n",
       "\n",
       "      Vl_Mai_Pag     Vl_Jun_Pag     Vl_Jul_Pag     Vl_Ago_Pag   Vl_Set_Pag  \\\n",
       "0     117.136,22     126.804,82     114.613,43     121.635,95    22.326,44   \n",
       "1     104.097,49     111.687,63     108.339,36     125.364,80    16.301,68   \n",
       "2   1.589.424,50   1.723.456,64   1.602.290,32   1.557.052,43   597.737,52   \n",
       "\n",
       "  Vl_Out_Pag Vl_Nov_Pag Vl_Dez_Pag  \n",
       "0       0,00       0,00       0,00  \n",
       "1       0,00       0,00       0,00  \n",
       "2       0,00       0,00       0,00  \n",
       "\n",
       "[3 rows x 39 columns]"
      ]
     },
     "execution_count": 49,
     "metadata": {},
     "output_type": "execute_result"
    }
   ],
   "source": [
    "gastos.head(3) # Apenas os três primeiros valores do DataFrame"
   ]
  },
  {
   "cell_type": "markdown",
   "metadata": {},
   "source": [
    "##### Agrupamento dos dados\n",
    "\n",
    "Para facilitar a manipulação dos dados, criaremos grupos, estes que serão feitos utilizando como referência a coluna `Natureza`."
   ]
  },
  {
   "cell_type": "code",
   "execution_count": null,
   "metadata": {},
   "outputs": [],
   "source": [
    "gastos_por_grupo = gastos.groupby('Natureza')\n",
    "grupos = list(gastos_por_grupo.groups.keys()); print(grupos)"
   ]
  },
  {
   "cell_type": "markdown",
   "metadata": {},
   "source": [
    "#### Pequeno tratamento dos dados \n",
    "\n",
    "Os dados estão separados em grupos, porém ainda precisamos realizar um tratamento para permitir o início de uma análise, a remoção dos simbolos de ponto e virgula dos dados, isto porque, o pandas não faz a leitura de virgula em números (Isto é um padrão brasileiro), assim iremos aplicar uma função que remove estes problemas.\n",
    "\n",
    "A função `change_money` utilizada, foi importada do arquivo `utils.py`."
   ]
  },
  {
   "cell_type": "code",
   "execution_count": null,
   "metadata": {},
   "outputs": [],
   "source": [
    "# Aplicando a função de correção dos valores e realizando o plot, perceba que o DataFrame, também tem uma função\n",
    "# simples de plot, o que permite plots rápidos\n",
    "gastos_por_grupo.get_group('3.1 - Pessoal e Encargos Sociais')['Vl_Previsto'].apply(change_money).plot()"
   ]
  }
 ],
 "metadata": {
  "kernelspec": {
   "display_name": "Python 3",
   "language": "python",
   "name": "python3"
  },
  "language_info": {
   "codemirror_mode": {
    "name": "ipython",
    "version": 3
   },
   "file_extension": ".py",
   "mimetype": "text/x-python",
   "name": "python",
   "nbconvert_exporter": "python",
   "pygments_lexer": "ipython3",
   "version": "3.6.4"
  }
 },
 "nbformat": 4,
 "nbformat_minor": 2
}
