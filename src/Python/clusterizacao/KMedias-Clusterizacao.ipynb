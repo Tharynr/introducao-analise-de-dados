{
 "cells": [
  {
   "cell_type": "markdown",
   "metadata": {},
   "source": [
    "## Clusterização de dados\n",
    "\n",
    "Em certos casos, no início de uma análise, é necessário entender os dados. A clusterização permite a você verificar se existe alguma similaridade nos dados, ou mesmo se existe alguma característica em comum no conjunto.\n",
    "\n",
    "Existem diversas técnicas de clusterização, cada uma com suas particularidades, estas indo deste simples algoritimos de distância, até mesmo redes neurais.\n",
    "\n",
    "Aqui, vamos aprender a utilizar o KMédias, um algoritimo que através da utilização da distância euclidiana, verifica quais dados tem alguma relação (Pertencem ao mesmo grupo).\n",
    "\n",
    "Neste exemplo vamos utilizar um conjunto de dados com diversas características de vinhos, e a implementação do KMédias utilizada será a do pacote `sklearn`."
   ]
  },
  {
   "cell_type": "code",
   "execution_count": 15,
   "metadata": {},
   "outputs": [],
   "source": [
    "# Carregando as bibliotecas\n",
    "from sklearn.cluster import KMeans\n",
    "import matplotlib.pyplot as plt"
   ]
  },
  {
   "cell_type": "markdown",
   "metadata": {},
   "source": [
    "Por este ser um conjunto de dados conhecido, ele está disponível diretamente na biblioteca `sklearn`."
   ]
  },
  {
   "cell_type": "code",
   "execution_count": 16,
   "metadata": {},
   "outputs": [],
   "source": [
    "from sklearn.datasets import load_wine"
   ]
  },
  {
   "cell_type": "markdown",
   "metadata": {},
   "source": [
    "O Comando acima importou a função para carregar os dados, vamos fazer isto."
   ]
  },
  {
   "cell_type": "code",
   "execution_count": 17,
   "metadata": {},
   "outputs": [],
   "source": [
    "wine = load_wine()"
   ]
  },
  {
   "cell_type": "markdown",
   "metadata": {},
   "source": [
    "Agora que os dados estão carregados, vamos verificar suas características. Lembrando que, os dados carregados com esta função, vem em uma estrutura de dados parecida com o dicionário, desta forma, com ele é possível carregar os valores diretamente através das chaves."
   ]
  },
  {
   "cell_type": "code",
   "execution_count": 18,
   "metadata": {},
   "outputs": [
    {
     "data": {
      "text/plain": [
       "dict_keys(['data', 'target', 'target_names', 'DESCR', 'feature_names'])"
      ]
     },
     "execution_count": 18,
     "metadata": {},
     "output_type": "execute_result"
    }
   ],
   "source": [
    "wine.keys()"
   ]
  },
  {
   "cell_type": "markdown",
   "metadata": {},
   "source": [
    "Veja que, neste conjunto de dados, dentre as opções, tem-se como principais para este exemplo:\n",
    "\n",
    "- `data`: Os dados propriamente ditos (Características dos vinhos);\n",
    "- `feature_names`: Nome de cada coluna do conjunto de dados;\n",
    "- `target_names`: Nomes das classes presentes no conjunto de dados.\n",
    "\n",
    "Vamos carregar os dados para verificar o conteúdo."
   ]
  },
  {
   "cell_type": "code",
   "execution_count": 19,
   "metadata": {},
   "outputs": [
    {
     "data": {
      "text/plain": [
       "array([[1.423e+01, 1.710e+00, 2.430e+00, ..., 1.040e+00, 3.920e+00,\n",
       "        1.065e+03],\n",
       "       [1.320e+01, 1.780e+00, 2.140e+00, ..., 1.050e+00, 3.400e+00,\n",
       "        1.050e+03],\n",
       "       [1.316e+01, 2.360e+00, 2.670e+00, ..., 1.030e+00, 3.170e+00,\n",
       "        1.185e+03],\n",
       "       ...,\n",
       "       [1.327e+01, 4.280e+00, 2.260e+00, ..., 5.900e-01, 1.560e+00,\n",
       "        8.350e+02],\n",
       "       [1.317e+01, 2.590e+00, 2.370e+00, ..., 6.000e-01, 1.620e+00,\n",
       "        8.400e+02],\n",
       "       [1.413e+01, 4.100e+00, 2.740e+00, ..., 6.100e-01, 1.600e+00,\n",
       "        5.600e+02]])"
      ]
     },
     "execution_count": 19,
     "metadata": {},
     "output_type": "execute_result"
    }
   ],
   "source": [
    "wine.data # Você pode recuperar também utilizando o comando: wine['data']"
   ]
  },
  {
   "cell_type": "markdown",
   "metadata": {},
   "source": [
    "Vamos verificar as dimensões dos dados"
   ]
  },
  {
   "cell_type": "code",
   "execution_count": 20,
   "metadata": {},
   "outputs": [
    {
     "data": {
      "text/plain": [
       "(178, 13)"
      ]
     },
     "execution_count": 20,
     "metadata": {},
     "output_type": "execute_result"
    }
   ],
   "source": [
    "wine.data.shape"
   ]
  },
  {
   "cell_type": "markdown",
   "metadata": {},
   "source": [
    "Perceba que há 13 atributos nos dados, e 178 registros. Vamos através da chave `feature_names` o que são cada um dos 13 atributos. "
   ]
  },
  {
   "cell_type": "code",
   "execution_count": 21,
   "metadata": {},
   "outputs": [
    {
     "data": {
      "text/plain": [
       "['alcohol',\n",
       " 'malic_acid',\n",
       " 'ash',\n",
       " 'alcalinity_of_ash',\n",
       " 'magnesium',\n",
       " 'total_phenols',\n",
       " 'flavanoids',\n",
       " 'nonflavanoid_phenols',\n",
       " 'proanthocyanins',\n",
       " 'color_intensity',\n",
       " 'hue',\n",
       " 'od280/od315_of_diluted_wines',\n",
       " 'proline']"
      ]
     },
     "execution_count": 21,
     "metadata": {},
     "output_type": "execute_result"
    }
   ],
   "source": [
    "wine.feature_names"
   ]
  },
  {
   "cell_type": "markdown",
   "metadata": {},
   "source": [
    "Beleza, agora que sabemos o que cada atributo representa, vamos levar em consideração dois deles para criar nosso agrupamento (Clusterização).\n",
    "\n",
    "Para o exemplo, vamos utilizar os atributos `alcohol` e `malic_acid`, estes que são os atributos das posições 0 e 1, respectivamente, da matriz de dados.\n",
    "\n",
    "Vamos então separar estes dados e já criar um objeto do KMeans"
   ]
  },
  {
   "cell_type": "code",
   "execution_count": 22,
   "metadata": {},
   "outputs": [],
   "source": [
    "alcool_e_malic = wine.data[:, 0:2]\n",
    "\n",
    "kmeans = KMeans(n_clusters = 3, random_state = 0)"
   ]
  },
  {
   "cell_type": "markdown",
   "metadata": {},
   "source": [
    "Bem, separamos as colunas 0 e 1, na variável `alcool_and_malic` e criamos o objeto `kmeans`. No caso da criação do objeto KMeans, veja que foram definidos dois parâmetros:\n",
    "\n",
    "- `n_clusters`: Quantidade de clusters a serem gerados;\n",
    "- `random_state`: Número para ajudar na determinação aleatório do centroid.\n",
    "\n",
    "Certo, mas como eu sei que eram 3 clusters, simples, verificando o que o conjunto de dados nos diz. Como descrito acima, há um atributo nomeado `target_names`, este mostra o nome das classes presentes nos dados, e consequentemente, a quantidade de classes. Por isto, como já sabia que a quantidade de classes eram 3, coloquei isto. \n",
    "\n",
    "Mas há casos de você não saber a quantidade de classes, mas para isto, existem diversas formas de solução, que não vamos abordar aqui.\n",
    "\n",
    "Então, vamos clusterizar."
   ]
  },
  {
   "cell_type": "code",
   "execution_count": 23,
   "metadata": {},
   "outputs": [],
   "source": [
    "# Clusterizando os dados\n",
    "clusters = kmeans.fit(alcool_e_malic)"
   ]
  },
  {
   "cell_type": "markdown",
   "metadata": {},
   "source": [
    "Pronto, agora os dados foram clusterizados. Como foi dito no início, o KMeans baseia-se em centroids, e os dados mais próximos destes são colocados em seus respectivos grupos. Vamos então ver qual foi o centroid final estimado pelo KMeans."
   ]
  },
  {
   "cell_type": "code",
   "execution_count": 24,
   "metadata": {},
   "outputs": [
    {
     "data": {
      "text/plain": [
       "array([[13.71538462,  1.79969231],\n",
       "       [12.21349206,  1.6531746 ],\n",
       "       [13.0632    ,  3.8948    ]])"
      ]
     },
     "execution_count": 24,
     "metadata": {},
     "output_type": "execute_result"
    }
   ],
   "source": [
    "clusters.cluster_centers_"
   ]
  },
  {
   "cell_type": "markdown",
   "metadata": {},
   "source": [
    "Certo, vamos agora classificar os dados de vinho, em classes. Lembre-se que, neste caso, para classificar os dados, os clusters criados anteriormente são utilizados como parâmetro para a classificação."
   ]
  },
  {
   "cell_type": "code",
   "execution_count": 25,
   "metadata": {},
   "outputs": [],
   "source": [
    "classificacao = kmeans.predict(alcool_e_malic)"
   ]
  },
  {
   "cell_type": "markdown",
   "metadata": {},
   "source": [
    "Pronto, agora cada registro do conjunto de dados tem uma classe definida com base nos clusters criados no passo anterior."
   ]
  },
  {
   "cell_type": "code",
   "execution_count": 26,
   "metadata": {},
   "outputs": [
    {
     "data": {
      "text/plain": [
       "array([0, 0, 0, 0, 0, 0, 0, 0, 0, 0, 0, 0, 0, 0, 0, 0, 0, 0, 0, 2, 0, 2,\n",
       "       0, 1, 0, 0, 0, 0, 0, 0, 0, 0, 0, 0, 0, 0, 0, 0, 0, 2, 0, 2, 0, 2,\n",
       "       0, 2, 2, 0, 0, 0, 0, 0, 0, 0, 0, 0, 0, 0, 0, 1, 1, 1, 0, 1, 1, 1,\n",
       "       0, 1, 0, 1, 1, 0, 0, 0, 1, 1, 1, 1, 1, 2, 1, 1, 1, 2, 1, 1, 1, 1,\n",
       "       1, 1, 1, 1, 1, 1, 1, 1, 1, 1, 1, 2, 1, 1, 1, 1, 1, 1, 1, 1, 1, 1,\n",
       "       2, 1, 1, 1, 1, 1, 1, 1, 2, 2, 1, 1, 2, 2, 2, 1, 1, 1, 1, 2, 1, 2,\n",
       "       1, 2, 1, 1, 2, 2, 2, 2, 2, 0, 2, 2, 2, 2, 2, 2, 2, 2, 2, 1, 0, 2,\n",
       "       1, 2, 2, 2, 0, 0, 2, 2, 2, 2, 0, 2, 2, 2, 0, 2, 2, 1, 0, 2, 2, 2,\n",
       "       0, 2], dtype=int32)"
      ]
     },
     "execution_count": 26,
     "metadata": {},
     "output_type": "execute_result"
    }
   ],
   "source": [
    "classificacao"
   ]
  },
  {
   "cell_type": "markdown",
   "metadata": {},
   "source": [
    "Por fim, vamos criar uma forma de visualizar os clusters, para entender como os dados foram distribuidos."
   ]
  },
  {
   "cell_type": "code",
   "execution_count": 32,
   "metadata": {},
   "outputs": [
    {
     "data": {
      "image/png": "[encoded data removed]",
      "text/plain": [
       "<Figure size 504x504 with 1 Axes>"
      ]
     },
     "metadata": {},
     "output_type": "display_data"
    }
   ],
   "source": [
    "# Recuperando os centroids\n",
    "centroids = clusters.cluster_centers_\n",
    "\n",
    "plt.figure(figsize = (7, 7))\n",
    "plt.scatter(alcool_e_malic[:, 0], alcool_e_malic[:, 1], c=classificacao)\n",
    "plt.scatter(centroids[:, 0], centroids[:, 1], c='black', s=200, alpha=0.5)\n",
    "plt.legend(['Dados', 'Centroids'])\n",
    "plt.show()"
   ]
  }
 ],
 "metadata": {
  "kernelspec": {
   "display_name": "Python 3",
   "language": "python",
   "name": "python3"
  },
  "language_info": {
   "codemirror_mode": {
    "name": "ipython",
    "version": 3
   },
   "file_extension": ".py",
   "mimetype": "text/x-python",
   "name": "python",
   "nbconvert_exporter": "python",
   "pygments_lexer": "ipython3",
   "version": "3.6.4"
  }
 },
 "nbformat": 4,
 "nbformat_minor": 2
}
